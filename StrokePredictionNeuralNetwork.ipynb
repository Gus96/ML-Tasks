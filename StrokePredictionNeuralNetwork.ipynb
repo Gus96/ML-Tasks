{
 "cells": [
  {
   "cell_type": "code",
   "execution_count": 1,
   "metadata": {},
   "outputs": [],
   "source": [
    "import numpy as np              # Массивы (матрицы, векторы, линейная алгебра)\n",
    "import matplotlib.pyplot as plt # Научная графика\n",
    "%matplotlib inline \n",
    "    # Говорим jupyter'у, чтобы весь графический вывод был в браузере, а не в отдельном окне\n",
    "import pandas as pd             # Таблицы и временные ряды (dataframe, series)\n",
    "import seaborn as sns           # Еще больше красивой графики для визуализации данных\n",
    "import sklearn                  # Алгоритмы машинного обучения\n",
    "from sklearn.metrics import confusion_matrix"
   ]
  },
  {
   "cell_type": "markdown",
   "metadata": {},
   "source": [
    "## Описание задачи\n",
    "Инсульт является 2-й ведущей причиной смерти во всем мире по данным (ВОЗ), на которую приходится примерно 11% от общего числа смертей.\n",
    "Этот набор данных используется для прогнозирования вероятности инсульта у пациента на основе входных параметров, таких как пол, возраст, различные заболевания и статус курения. Используя этот набор данных, научить модель прогнозировать инсульт."
   ]
  },
  {
   "cell_type": "markdown",
   "metadata": {},
   "source": [
    "## Загрузка данных"
   ]
  },
  {
   "cell_type": "code",
   "execution_count": 2,
   "metadata": {},
   "outputs": [],
   "source": [
    "file = \"healthcare-dataset-stroke-data.csv\"\n",
    "data_raw = pd.read_csv(file)"
   ]
  },
  {
   "cell_type": "code",
   "execution_count": 3,
   "metadata": {},
   "outputs": [
    {
     "data": {
      "text/plain": [
       "(5110, 12)"
      ]
     },
     "execution_count": 3,
     "metadata": {},
     "output_type": "execute_result"
    }
   ],
   "source": [
    "data_raw.shape"
   ]
  },
  {
   "cell_type": "markdown",
   "metadata": {},
   "source": [
    "#### Выводим первые 5 строк таблицы"
   ]
  },
  {
   "cell_type": "code",
   "execution_count": 4,
   "metadata": {},
   "outputs": [
    {
     "data": {
      "text/html": [
       "<div>\n",
       "<style scoped>\n",
       "    .dataframe tbody tr th:only-of-type {\n",
       "        vertical-align: middle;\n",
       "    }\n",
       "\n",
       "    .dataframe tbody tr th {\n",
       "        vertical-align: top;\n",
       "    }\n",
       "\n",
       "    .dataframe thead th {\n",
       "        text-align: right;\n",
       "    }\n",
       "</style>\n",
       "<table border=\"1\" class=\"dataframe\">\n",
       "  <thead>\n",
       "    <tr style=\"text-align: right;\">\n",
       "      <th></th>\n",
       "      <th>id</th>\n",
       "      <th>gender</th>\n",
       "      <th>age</th>\n",
       "      <th>hypertension</th>\n",
       "      <th>heart_disease</th>\n",
       "      <th>ever_married</th>\n",
       "      <th>work_type</th>\n",
       "      <th>Residence_type</th>\n",
       "      <th>avg_glucose_level</th>\n",
       "      <th>bmi</th>\n",
       "      <th>smoking_status</th>\n",
       "      <th>stroke</th>\n",
       "    </tr>\n",
       "  </thead>\n",
       "  <tbody>\n",
       "    <tr>\n",
       "      <th>0</th>\n",
       "      <td>9046</td>\n",
       "      <td>Male</td>\n",
       "      <td>67.0</td>\n",
       "      <td>0</td>\n",
       "      <td>1</td>\n",
       "      <td>Yes</td>\n",
       "      <td>Private</td>\n",
       "      <td>Urban</td>\n",
       "      <td>228.69</td>\n",
       "      <td>36.6</td>\n",
       "      <td>formerly smoked</td>\n",
       "      <td>1</td>\n",
       "    </tr>\n",
       "    <tr>\n",
       "      <th>1</th>\n",
       "      <td>51676</td>\n",
       "      <td>Female</td>\n",
       "      <td>61.0</td>\n",
       "      <td>0</td>\n",
       "      <td>0</td>\n",
       "      <td>Yes</td>\n",
       "      <td>Self-employed</td>\n",
       "      <td>Rural</td>\n",
       "      <td>202.21</td>\n",
       "      <td>NaN</td>\n",
       "      <td>never smoked</td>\n",
       "      <td>1</td>\n",
       "    </tr>\n",
       "    <tr>\n",
       "      <th>2</th>\n",
       "      <td>31112</td>\n",
       "      <td>Male</td>\n",
       "      <td>80.0</td>\n",
       "      <td>0</td>\n",
       "      <td>1</td>\n",
       "      <td>Yes</td>\n",
       "      <td>Private</td>\n",
       "      <td>Rural</td>\n",
       "      <td>105.92</td>\n",
       "      <td>32.5</td>\n",
       "      <td>never smoked</td>\n",
       "      <td>1</td>\n",
       "    </tr>\n",
       "    <tr>\n",
       "      <th>3</th>\n",
       "      <td>60182</td>\n",
       "      <td>Female</td>\n",
       "      <td>49.0</td>\n",
       "      <td>0</td>\n",
       "      <td>0</td>\n",
       "      <td>Yes</td>\n",
       "      <td>Private</td>\n",
       "      <td>Urban</td>\n",
       "      <td>171.23</td>\n",
       "      <td>34.4</td>\n",
       "      <td>smokes</td>\n",
       "      <td>1</td>\n",
       "    </tr>\n",
       "    <tr>\n",
       "      <th>4</th>\n",
       "      <td>1665</td>\n",
       "      <td>Female</td>\n",
       "      <td>79.0</td>\n",
       "      <td>1</td>\n",
       "      <td>0</td>\n",
       "      <td>Yes</td>\n",
       "      <td>Self-employed</td>\n",
       "      <td>Rural</td>\n",
       "      <td>174.12</td>\n",
       "      <td>24.0</td>\n",
       "      <td>never smoked</td>\n",
       "      <td>1</td>\n",
       "    </tr>\n",
       "  </tbody>\n",
       "</table>\n",
       "</div>"
      ],
      "text/plain": [
       "      id  gender   age  hypertension  heart_disease ever_married  \\\n",
       "0   9046    Male  67.0             0              1          Yes   \n",
       "1  51676  Female  61.0             0              0          Yes   \n",
       "2  31112    Male  80.0             0              1          Yes   \n",
       "3  60182  Female  49.0             0              0          Yes   \n",
       "4   1665  Female  79.0             1              0          Yes   \n",
       "\n",
       "       work_type Residence_type  avg_glucose_level   bmi   smoking_status  \\\n",
       "0        Private          Urban             228.69  36.6  formerly smoked   \n",
       "1  Self-employed          Rural             202.21   NaN     never smoked   \n",
       "2        Private          Rural             105.92  32.5     never smoked   \n",
       "3        Private          Urban             171.23  34.4           smokes   \n",
       "4  Self-employed          Rural             174.12  24.0     never smoked   \n",
       "\n",
       "   stroke  \n",
       "0       1  \n",
       "1       1  \n",
       "2       1  \n",
       "3       1  \n",
       "4       1  "
      ]
     },
     "execution_count": 4,
     "metadata": {},
     "output_type": "execute_result"
    }
   ],
   "source": [
    "data_raw.head()"
   ]
  },
  {
   "cell_type": "markdown",
   "metadata": {},
   "source": [
    "##### Скопируем данные"
   ]
  },
  {
   "cell_type": "code",
   "execution_count": 5,
   "metadata": {},
   "outputs": [],
   "source": [
    "data = data_raw"
   ]
  },
  {
   "cell_type": "markdown",
   "metadata": {},
   "source": [
    "## Обработка пропущенных значений"
   ]
  },
  {
   "cell_type": "markdown",
   "metadata": {},
   "source": [
    "#### Посмотрим, сколько пропущенных значений в каждом столбце матрицы:"
   ]
  },
  {
   "cell_type": "code",
   "execution_count": 6,
   "metadata": {},
   "outputs": [
    {
     "data": {
      "text/plain": [
       "id                     0\n",
       "gender                 0\n",
       "age                    0\n",
       "hypertension           0\n",
       "heart_disease          0\n",
       "ever_married           0\n",
       "work_type              0\n",
       "Residence_type         0\n",
       "avg_glucose_level      0\n",
       "bmi                  201\n",
       "smoking_status         0\n",
       "stroke                 0\n",
       "dtype: int64"
      ]
     },
     "execution_count": 6,
     "metadata": {},
     "output_type": "execute_result"
    }
   ],
   "source": [
    "data.isna().sum()"
   ]
  },
  {
   "cell_type": "markdown",
   "metadata": {},
   "source": [
    "##### Заполним медианами пропущенные значения в столбцах, соответствующих числовым признакам:"
   ]
  },
  {
   "cell_type": "code",
   "execution_count": 7,
   "metadata": {},
   "outputs": [
    {
     "data": {
      "text/plain": [
       "id                   36932.000\n",
       "age                     45.000\n",
       "hypertension             0.000\n",
       "heart_disease            0.000\n",
       "avg_glucose_level       91.885\n",
       "bmi                     28.100\n",
       "stroke                   0.000\n",
       "dtype: float64"
      ]
     },
     "execution_count": 7,
     "metadata": {},
     "output_type": "execute_result"
    }
   ],
   "source": [
    "data.median(axis = 0)"
   ]
  },
  {
   "cell_type": "code",
   "execution_count": 8,
   "metadata": {},
   "outputs": [],
   "source": [
    "data.fillna(data.median(axis = 0), axis = 0 , inplace = True)"
   ]
  },
  {
   "cell_type": "code",
   "execution_count": 9,
   "metadata": {},
   "outputs": [
    {
     "data": {
      "text/plain": [
       "0    36.6\n",
       "1    28.1\n",
       "2    32.5\n",
       "3    34.4\n",
       "4    24.0\n",
       "Name: bmi, dtype: float64"
      ]
     },
     "execution_count": 9,
     "metadata": {},
     "output_type": "execute_result"
    }
   ],
   "source": [
    "data[\"bmi\"].head()"
   ]
  },
  {
   "cell_type": "code",
   "execution_count": 10,
   "metadata": {},
   "outputs": [
    {
     "data": {
      "text/plain": [
       "id                   0\n",
       "gender               0\n",
       "age                  0\n",
       "hypertension         0\n",
       "heart_disease        0\n",
       "ever_married         0\n",
       "work_type            0\n",
       "Residence_type       0\n",
       "avg_glucose_level    0\n",
       "bmi                  0\n",
       "smoking_status       0\n",
       "stroke               0\n",
       "dtype: int64"
      ]
     },
     "execution_count": 10,
     "metadata": {},
     "output_type": "execute_result"
    }
   ],
   "source": [
    "data.isna().sum()"
   ]
  },
  {
   "cell_type": "markdown",
   "metadata": {},
   "source": [
    "## Обработка номинальных признаков"
   ]
  },
  {
   "cell_type": "markdown",
   "metadata": {},
   "source": [
    "#### Обработаем бинарный признак (заменяем на числовой):"
   ]
  },
  {
   "cell_type": "code",
   "execution_count": 11,
   "metadata": {},
   "outputs": [
    {
     "data": {
      "text/plain": [
       "0       Yes\n",
       "1       Yes\n",
       "2       Yes\n",
       "3       Yes\n",
       "4       Yes\n",
       "       ... \n",
       "5105    Yes\n",
       "5106    Yes\n",
       "5107    Yes\n",
       "5108    Yes\n",
       "5109    Yes\n",
       "Name: ever_married, Length: 5110, dtype: object"
      ]
     },
     "execution_count": 11,
     "metadata": {},
     "output_type": "execute_result"
    }
   ],
   "source": [
    "data['ever_married']"
   ]
  },
  {
   "cell_type": "code",
   "execution_count": 12,
   "metadata": {},
   "outputs": [
    {
     "data": {
      "text/plain": [
       "array([0, 0, 0, ..., 0, 0, 0], dtype=int64)"
      ]
     },
     "execution_count": 12,
     "metadata": {},
     "output_type": "execute_result"
    }
   ],
   "source": [
    "pd.factorize(data['ever_married'])[0]"
   ]
  },
  {
   "cell_type": "code",
   "execution_count": 13,
   "metadata": {},
   "outputs": [],
   "source": [
    "data['ever_married'] = pd.factorize(data['ever_married'])[0]"
   ]
  },
  {
   "cell_type": "code",
   "execution_count": 14,
   "metadata": {},
   "outputs": [
    {
     "data": {
      "text/plain": [
       "0       0\n",
       "1       0\n",
       "2       0\n",
       "3       0\n",
       "4       0\n",
       "       ..\n",
       "5105    0\n",
       "5106    0\n",
       "5107    0\n",
       "5108    0\n",
       "5109    0\n",
       "Name: ever_married, Length: 5110, dtype: int64"
      ]
     },
     "execution_count": 14,
     "metadata": {},
     "output_type": "execute_result"
    }
   ],
   "source": [
    "data['ever_married']"
   ]
  },
  {
   "cell_type": "code",
   "execution_count": 15,
   "metadata": {},
   "outputs": [
    {
     "data": {
      "text/plain": [
       "0         Male\n",
       "1       Female\n",
       "2         Male\n",
       "3       Female\n",
       "4       Female\n",
       "         ...  \n",
       "5105    Female\n",
       "5106    Female\n",
       "5107    Female\n",
       "5108      Male\n",
       "5109    Female\n",
       "Name: gender, Length: 5110, dtype: object"
      ]
     },
     "execution_count": 15,
     "metadata": {},
     "output_type": "execute_result"
    }
   ],
   "source": [
    "data['gender']"
   ]
  },
  {
   "cell_type": "code",
   "execution_count": 16,
   "metadata": {},
   "outputs": [],
   "source": [
    "data_dummies = pd.get_dummies(data['gender'])"
   ]
  },
  {
   "cell_type": "code",
   "execution_count": 17,
   "metadata": {},
   "outputs": [
    {
     "data": {
      "text/html": [
       "<div>\n",
       "<style scoped>\n",
       "    .dataframe tbody tr th:only-of-type {\n",
       "        vertical-align: middle;\n",
       "    }\n",
       "\n",
       "    .dataframe tbody tr th {\n",
       "        vertical-align: top;\n",
       "    }\n",
       "\n",
       "    .dataframe thead th {\n",
       "        text-align: right;\n",
       "    }\n",
       "</style>\n",
       "<table border=\"1\" class=\"dataframe\">\n",
       "  <thead>\n",
       "    <tr style=\"text-align: right;\">\n",
       "      <th></th>\n",
       "      <th>Female</th>\n",
       "      <th>Male</th>\n",
       "      <th>Other</th>\n",
       "    </tr>\n",
       "  </thead>\n",
       "  <tbody>\n",
       "    <tr>\n",
       "      <th>0</th>\n",
       "      <td>0</td>\n",
       "      <td>1</td>\n",
       "      <td>0</td>\n",
       "    </tr>\n",
       "    <tr>\n",
       "      <th>1</th>\n",
       "      <td>1</td>\n",
       "      <td>0</td>\n",
       "      <td>0</td>\n",
       "    </tr>\n",
       "    <tr>\n",
       "      <th>2</th>\n",
       "      <td>0</td>\n",
       "      <td>1</td>\n",
       "      <td>0</td>\n",
       "    </tr>\n",
       "    <tr>\n",
       "      <th>3</th>\n",
       "      <td>1</td>\n",
       "      <td>0</td>\n",
       "      <td>0</td>\n",
       "    </tr>\n",
       "    <tr>\n",
       "      <th>4</th>\n",
       "      <td>1</td>\n",
       "      <td>0</td>\n",
       "      <td>0</td>\n",
       "    </tr>\n",
       "  </tbody>\n",
       "</table>\n",
       "</div>"
      ],
      "text/plain": [
       "   Female  Male  Other\n",
       "0       0     1      0\n",
       "1       1     0      0\n",
       "2       0     1      0\n",
       "3       1     0      0\n",
       "4       1     0      0"
      ]
     },
     "execution_count": 17,
     "metadata": {},
     "output_type": "execute_result"
    }
   ],
   "source": [
    "data_dummies.head()"
   ]
  },
  {
   "cell_type": "markdown",
   "metadata": {},
   "source": [
    "#### Присоединяем к таблице"
   ]
  },
  {
   "cell_type": "code",
   "execution_count": 18,
   "metadata": {},
   "outputs": [],
   "source": [
    "data = pd.concat((data, data_dummies), axis=1)\n",
    "data = data.drop(['gender'], axis=1)"
   ]
  },
  {
   "cell_type": "code",
   "execution_count": 19,
   "metadata": {},
   "outputs": [
    {
     "data": {
      "text/html": [
       "<div>\n",
       "<style scoped>\n",
       "    .dataframe tbody tr th:only-of-type {\n",
       "        vertical-align: middle;\n",
       "    }\n",
       "\n",
       "    .dataframe tbody tr th {\n",
       "        vertical-align: top;\n",
       "    }\n",
       "\n",
       "    .dataframe thead th {\n",
       "        text-align: right;\n",
       "    }\n",
       "</style>\n",
       "<table border=\"1\" class=\"dataframe\">\n",
       "  <thead>\n",
       "    <tr style=\"text-align: right;\">\n",
       "      <th></th>\n",
       "      <th>id</th>\n",
       "      <th>age</th>\n",
       "      <th>hypertension</th>\n",
       "      <th>heart_disease</th>\n",
       "      <th>ever_married</th>\n",
       "      <th>work_type</th>\n",
       "      <th>Residence_type</th>\n",
       "      <th>avg_glucose_level</th>\n",
       "      <th>bmi</th>\n",
       "      <th>smoking_status</th>\n",
       "      <th>stroke</th>\n",
       "      <th>Female</th>\n",
       "      <th>Male</th>\n",
       "      <th>Other</th>\n",
       "    </tr>\n",
       "  </thead>\n",
       "  <tbody>\n",
       "    <tr>\n",
       "      <th>0</th>\n",
       "      <td>9046</td>\n",
       "      <td>67.0</td>\n",
       "      <td>0</td>\n",
       "      <td>1</td>\n",
       "      <td>0</td>\n",
       "      <td>Private</td>\n",
       "      <td>Urban</td>\n",
       "      <td>228.69</td>\n",
       "      <td>36.6</td>\n",
       "      <td>formerly smoked</td>\n",
       "      <td>1</td>\n",
       "      <td>0</td>\n",
       "      <td>1</td>\n",
       "      <td>0</td>\n",
       "    </tr>\n",
       "    <tr>\n",
       "      <th>1</th>\n",
       "      <td>51676</td>\n",
       "      <td>61.0</td>\n",
       "      <td>0</td>\n",
       "      <td>0</td>\n",
       "      <td>0</td>\n",
       "      <td>Self-employed</td>\n",
       "      <td>Rural</td>\n",
       "      <td>202.21</td>\n",
       "      <td>28.1</td>\n",
       "      <td>never smoked</td>\n",
       "      <td>1</td>\n",
       "      <td>1</td>\n",
       "      <td>0</td>\n",
       "      <td>0</td>\n",
       "    </tr>\n",
       "    <tr>\n",
       "      <th>2</th>\n",
       "      <td>31112</td>\n",
       "      <td>80.0</td>\n",
       "      <td>0</td>\n",
       "      <td>1</td>\n",
       "      <td>0</td>\n",
       "      <td>Private</td>\n",
       "      <td>Rural</td>\n",
       "      <td>105.92</td>\n",
       "      <td>32.5</td>\n",
       "      <td>never smoked</td>\n",
       "      <td>1</td>\n",
       "      <td>0</td>\n",
       "      <td>1</td>\n",
       "      <td>0</td>\n",
       "    </tr>\n",
       "    <tr>\n",
       "      <th>3</th>\n",
       "      <td>60182</td>\n",
       "      <td>49.0</td>\n",
       "      <td>0</td>\n",
       "      <td>0</td>\n",
       "      <td>0</td>\n",
       "      <td>Private</td>\n",
       "      <td>Urban</td>\n",
       "      <td>171.23</td>\n",
       "      <td>34.4</td>\n",
       "      <td>smokes</td>\n",
       "      <td>1</td>\n",
       "      <td>1</td>\n",
       "      <td>0</td>\n",
       "      <td>0</td>\n",
       "    </tr>\n",
       "    <tr>\n",
       "      <th>4</th>\n",
       "      <td>1665</td>\n",
       "      <td>79.0</td>\n",
       "      <td>1</td>\n",
       "      <td>0</td>\n",
       "      <td>0</td>\n",
       "      <td>Self-employed</td>\n",
       "      <td>Rural</td>\n",
       "      <td>174.12</td>\n",
       "      <td>24.0</td>\n",
       "      <td>never smoked</td>\n",
       "      <td>1</td>\n",
       "      <td>1</td>\n",
       "      <td>0</td>\n",
       "      <td>0</td>\n",
       "    </tr>\n",
       "  </tbody>\n",
       "</table>\n",
       "</div>"
      ],
      "text/plain": [
       "      id   age  hypertension  heart_disease  ever_married      work_type  \\\n",
       "0   9046  67.0             0              1             0        Private   \n",
       "1  51676  61.0             0              0             0  Self-employed   \n",
       "2  31112  80.0             0              1             0        Private   \n",
       "3  60182  49.0             0              0             0        Private   \n",
       "4   1665  79.0             1              0             0  Self-employed   \n",
       "\n",
       "  Residence_type  avg_glucose_level   bmi   smoking_status  stroke  Female  \\\n",
       "0          Urban             228.69  36.6  formerly smoked       1       0   \n",
       "1          Rural             202.21  28.1     never smoked       1       1   \n",
       "2          Rural             105.92  32.5     never smoked       1       0   \n",
       "3          Urban             171.23  34.4           smokes       1       1   \n",
       "4          Rural             174.12  24.0     never smoked       1       1   \n",
       "\n",
       "   Male  Other  \n",
       "0     1      0  \n",
       "1     0      0  \n",
       "2     1      0  \n",
       "3     0      0  \n",
       "4     0      0  "
      ]
     },
     "execution_count": 19,
     "metadata": {},
     "output_type": "execute_result"
    }
   ],
   "source": [
    "data.head()"
   ]
  },
  {
   "cell_type": "markdown",
   "metadata": {},
   "source": [
    "#### Обрабатываем небинарные признаки:"
   ]
  },
  {
   "cell_type": "code",
   "execution_count": 20,
   "metadata": {},
   "outputs": [
    {
     "data": {
      "text/html": [
       "<div>\n",
       "<style scoped>\n",
       "    .dataframe tbody tr th:only-of-type {\n",
       "        vertical-align: middle;\n",
       "    }\n",
       "\n",
       "    .dataframe tbody tr th {\n",
       "        vertical-align: top;\n",
       "    }\n",
       "\n",
       "    .dataframe thead th {\n",
       "        text-align: right;\n",
       "    }\n",
       "</style>\n",
       "<table border=\"1\" class=\"dataframe\">\n",
       "  <thead>\n",
       "    <tr style=\"text-align: right;\">\n",
       "      <th></th>\n",
       "      <th>id</th>\n",
       "      <th>age</th>\n",
       "      <th>hypertension</th>\n",
       "      <th>heart_disease</th>\n",
       "      <th>ever_married</th>\n",
       "      <th>avg_glucose_level</th>\n",
       "      <th>bmi</th>\n",
       "      <th>stroke</th>\n",
       "      <th>Female</th>\n",
       "      <th>Male</th>\n",
       "      <th>...</th>\n",
       "      <th>Never_worked</th>\n",
       "      <th>Private</th>\n",
       "      <th>Self-employed</th>\n",
       "      <th>children</th>\n",
       "      <th>Rural</th>\n",
       "      <th>Urban</th>\n",
       "      <th>Unknown</th>\n",
       "      <th>formerly smoked</th>\n",
       "      <th>never smoked</th>\n",
       "      <th>smokes</th>\n",
       "    </tr>\n",
       "  </thead>\n",
       "  <tbody>\n",
       "    <tr>\n",
       "      <th>0</th>\n",
       "      <td>9046</td>\n",
       "      <td>67.0</td>\n",
       "      <td>0</td>\n",
       "      <td>1</td>\n",
       "      <td>0</td>\n",
       "      <td>228.69</td>\n",
       "      <td>36.6</td>\n",
       "      <td>1</td>\n",
       "      <td>0</td>\n",
       "      <td>1</td>\n",
       "      <td>...</td>\n",
       "      <td>0</td>\n",
       "      <td>1</td>\n",
       "      <td>0</td>\n",
       "      <td>0</td>\n",
       "      <td>0</td>\n",
       "      <td>1</td>\n",
       "      <td>0</td>\n",
       "      <td>1</td>\n",
       "      <td>0</td>\n",
       "      <td>0</td>\n",
       "    </tr>\n",
       "    <tr>\n",
       "      <th>1</th>\n",
       "      <td>51676</td>\n",
       "      <td>61.0</td>\n",
       "      <td>0</td>\n",
       "      <td>0</td>\n",
       "      <td>0</td>\n",
       "      <td>202.21</td>\n",
       "      <td>28.1</td>\n",
       "      <td>1</td>\n",
       "      <td>1</td>\n",
       "      <td>0</td>\n",
       "      <td>...</td>\n",
       "      <td>0</td>\n",
       "      <td>0</td>\n",
       "      <td>1</td>\n",
       "      <td>0</td>\n",
       "      <td>1</td>\n",
       "      <td>0</td>\n",
       "      <td>0</td>\n",
       "      <td>0</td>\n",
       "      <td>1</td>\n",
       "      <td>0</td>\n",
       "    </tr>\n",
       "    <tr>\n",
       "      <th>2</th>\n",
       "      <td>31112</td>\n",
       "      <td>80.0</td>\n",
       "      <td>0</td>\n",
       "      <td>1</td>\n",
       "      <td>0</td>\n",
       "      <td>105.92</td>\n",
       "      <td>32.5</td>\n",
       "      <td>1</td>\n",
       "      <td>0</td>\n",
       "      <td>1</td>\n",
       "      <td>...</td>\n",
       "      <td>0</td>\n",
       "      <td>1</td>\n",
       "      <td>0</td>\n",
       "      <td>0</td>\n",
       "      <td>1</td>\n",
       "      <td>0</td>\n",
       "      <td>0</td>\n",
       "      <td>0</td>\n",
       "      <td>1</td>\n",
       "      <td>0</td>\n",
       "    </tr>\n",
       "    <tr>\n",
       "      <th>3</th>\n",
       "      <td>60182</td>\n",
       "      <td>49.0</td>\n",
       "      <td>0</td>\n",
       "      <td>0</td>\n",
       "      <td>0</td>\n",
       "      <td>171.23</td>\n",
       "      <td>34.4</td>\n",
       "      <td>1</td>\n",
       "      <td>1</td>\n",
       "      <td>0</td>\n",
       "      <td>...</td>\n",
       "      <td>0</td>\n",
       "      <td>1</td>\n",
       "      <td>0</td>\n",
       "      <td>0</td>\n",
       "      <td>0</td>\n",
       "      <td>1</td>\n",
       "      <td>0</td>\n",
       "      <td>0</td>\n",
       "      <td>0</td>\n",
       "      <td>1</td>\n",
       "    </tr>\n",
       "    <tr>\n",
       "      <th>4</th>\n",
       "      <td>1665</td>\n",
       "      <td>79.0</td>\n",
       "      <td>1</td>\n",
       "      <td>0</td>\n",
       "      <td>0</td>\n",
       "      <td>174.12</td>\n",
       "      <td>24.0</td>\n",
       "      <td>1</td>\n",
       "      <td>1</td>\n",
       "      <td>0</td>\n",
       "      <td>...</td>\n",
       "      <td>0</td>\n",
       "      <td>0</td>\n",
       "      <td>1</td>\n",
       "      <td>0</td>\n",
       "      <td>1</td>\n",
       "      <td>0</td>\n",
       "      <td>0</td>\n",
       "      <td>0</td>\n",
       "      <td>1</td>\n",
       "      <td>0</td>\n",
       "    </tr>\n",
       "  </tbody>\n",
       "</table>\n",
       "<p>5 rows × 22 columns</p>\n",
       "</div>"
      ],
      "text/plain": [
       "      id   age  hypertension  heart_disease  ever_married  avg_glucose_level  \\\n",
       "0   9046  67.0             0              1             0             228.69   \n",
       "1  51676  61.0             0              0             0             202.21   \n",
       "2  31112  80.0             0              1             0             105.92   \n",
       "3  60182  49.0             0              0             0             171.23   \n",
       "4   1665  79.0             1              0             0             174.12   \n",
       "\n",
       "    bmi  stroke  Female  Male  ...  Never_worked  Private  Self-employed  \\\n",
       "0  36.6       1       0     1  ...             0        1              0   \n",
       "1  28.1       1       1     0  ...             0        0              1   \n",
       "2  32.5       1       0     1  ...             0        1              0   \n",
       "3  34.4       1       1     0  ...             0        1              0   \n",
       "4  24.0       1       1     0  ...             0        0              1   \n",
       "\n",
       "   children  Rural  Urban  Unknown  formerly smoked  never smoked  smokes  \n",
       "0         0      0      1        0                1             0       0  \n",
       "1         0      1      0        0                0             1       0  \n",
       "2         0      1      0        0                0             1       0  \n",
       "3         0      0      1        0                0             0       1  \n",
       "4         0      1      0        0                0             1       0  \n",
       "\n",
       "[5 rows x 22 columns]"
      ]
     },
     "execution_count": 20,
     "metadata": {},
     "output_type": "execute_result"
    }
   ],
   "source": [
    "data_dummies = pd.get_dummies(data['work_type'])\n",
    "data = pd.concat((data, data_dummies), axis=1)\n",
    "data = data.drop(['work_type'], axis=1)\n",
    "\n",
    "data_dummies = pd.get_dummies(data['Residence_type'])\n",
    "data = pd.concat((data, data_dummies), axis=1)\n",
    "data = data.drop(['Residence_type'], axis=1)\n",
    "\n",
    "data_dummies = pd.get_dummies(data['smoking_status'])\n",
    "data = pd.concat((data, data_dummies), axis=1)\n",
    "data = data.drop(['smoking_status'], axis=1)\n",
    "\n",
    "data.head()"
   ]
  },
  {
   "cell_type": "markdown",
   "metadata": {},
   "source": [
    "## Нормализация"
   ]
  },
  {
   "cell_type": "markdown",
   "metadata": {},
   "source": [
    "#### Выполним стандартизацию всех признаков:"
   ]
  },
  {
   "cell_type": "code",
   "execution_count": 21,
   "metadata": {},
   "outputs": [],
   "source": [
    "data_stand = (data - data.mean(axis = 0))/data.std(axis = 0)"
   ]
  },
  {
   "cell_type": "code",
   "execution_count": 22,
   "metadata": {},
   "outputs": [
    {
     "data": {
      "text/html": [
       "<div>\n",
       "<style scoped>\n",
       "    .dataframe tbody tr th:only-of-type {\n",
       "        vertical-align: middle;\n",
       "    }\n",
       "\n",
       "    .dataframe tbody tr th {\n",
       "        vertical-align: top;\n",
       "    }\n",
       "\n",
       "    .dataframe thead th {\n",
       "        text-align: right;\n",
       "    }\n",
       "</style>\n",
       "<table border=\"1\" class=\"dataframe\">\n",
       "  <thead>\n",
       "    <tr style=\"text-align: right;\">\n",
       "      <th></th>\n",
       "      <th>id</th>\n",
       "      <th>age</th>\n",
       "      <th>hypertension</th>\n",
       "      <th>heart_disease</th>\n",
       "      <th>ever_married</th>\n",
       "      <th>avg_glucose_level</th>\n",
       "      <th>bmi</th>\n",
       "      <th>stroke</th>\n",
       "      <th>Female</th>\n",
       "      <th>Male</th>\n",
       "      <th>...</th>\n",
       "      <th>Never_worked</th>\n",
       "      <th>Private</th>\n",
       "      <th>Self-employed</th>\n",
       "      <th>children</th>\n",
       "      <th>Rural</th>\n",
       "      <th>Urban</th>\n",
       "      <th>Unknown</th>\n",
       "      <th>formerly smoked</th>\n",
       "      <th>never smoked</th>\n",
       "      <th>smokes</th>\n",
       "    </tr>\n",
       "  </thead>\n",
       "  <tbody>\n",
       "    <tr>\n",
       "      <th>0</th>\n",
       "      <td>-1.298185</td>\n",
       "      <td>1.051331</td>\n",
       "      <td>-0.328570</td>\n",
       "      <td>4.184622</td>\n",
       "      <td>-0.723813</td>\n",
       "      <td>2.706111</td>\n",
       "      <td>1.004988</td>\n",
       "      <td>4.417948</td>\n",
       "      <td>-1.189394</td>\n",
       "      <td>1.189873</td>\n",
       "      <td>...</td>\n",
       "      <td>-0.06575</td>\n",
       "      <td>0.864212</td>\n",
       "      <td>-0.436838</td>\n",
       "      <td>-0.394074</td>\n",
       "      <td>-0.983983</td>\n",
       "      <td>0.983983</td>\n",
       "      <td>-0.657946</td>\n",
       "      <td>2.184737</td>\n",
       "      <td>-0.766699</td>\n",
       "      <td>-0.427271</td>\n",
       "    </tr>\n",
       "    <tr>\n",
       "      <th>1</th>\n",
       "      <td>0.716301</td>\n",
       "      <td>0.785993</td>\n",
       "      <td>-0.328570</td>\n",
       "      <td>-0.238923</td>\n",
       "      <td>-0.723813</td>\n",
       "      <td>2.121351</td>\n",
       "      <td>-0.098971</td>\n",
       "      <td>4.417948</td>\n",
       "      <td>0.840600</td>\n",
       "      <td>-0.840261</td>\n",
       "      <td>...</td>\n",
       "      <td>-0.06575</td>\n",
       "      <td>-1.156897</td>\n",
       "      <td>2.288731</td>\n",
       "      <td>-0.394074</td>\n",
       "      <td>1.016078</td>\n",
       "      <td>-1.016078</td>\n",
       "      <td>-0.657946</td>\n",
       "      <td>-0.457631</td>\n",
       "      <td>1.304037</td>\n",
       "      <td>-0.427271</td>\n",
       "    </tr>\n",
       "    <tr>\n",
       "      <th>2</th>\n",
       "      <td>-0.255453</td>\n",
       "      <td>1.626231</td>\n",
       "      <td>-0.328570</td>\n",
       "      <td>4.184622</td>\n",
       "      <td>-0.723813</td>\n",
       "      <td>-0.005028</td>\n",
       "      <td>0.472490</td>\n",
       "      <td>4.417948</td>\n",
       "      <td>-1.189394</td>\n",
       "      <td>1.189873</td>\n",
       "      <td>...</td>\n",
       "      <td>-0.06575</td>\n",
       "      <td>0.864212</td>\n",
       "      <td>-0.436838</td>\n",
       "      <td>-0.394074</td>\n",
       "      <td>1.016078</td>\n",
       "      <td>-1.016078</td>\n",
       "      <td>-0.657946</td>\n",
       "      <td>-0.457631</td>\n",
       "      <td>1.304037</td>\n",
       "      <td>-0.427271</td>\n",
       "    </tr>\n",
       "    <tr>\n",
       "      <th>3</th>\n",
       "      <td>1.118254</td>\n",
       "      <td>0.255317</td>\n",
       "      <td>-0.328570</td>\n",
       "      <td>-0.238923</td>\n",
       "      <td>-0.723813</td>\n",
       "      <td>1.437217</td>\n",
       "      <td>0.719257</td>\n",
       "      <td>4.417948</td>\n",
       "      <td>0.840600</td>\n",
       "      <td>-0.840261</td>\n",
       "      <td>...</td>\n",
       "      <td>-0.06575</td>\n",
       "      <td>0.864212</td>\n",
       "      <td>-0.436838</td>\n",
       "      <td>-0.394074</td>\n",
       "      <td>-0.983983</td>\n",
       "      <td>0.983983</td>\n",
       "      <td>-0.657946</td>\n",
       "      <td>-0.457631</td>\n",
       "      <td>-0.766699</td>\n",
       "      <td>2.339975</td>\n",
       "    </tr>\n",
       "    <tr>\n",
       "      <th>4</th>\n",
       "      <td>-1.646975</td>\n",
       "      <td>1.582008</td>\n",
       "      <td>3.042899</td>\n",
       "      <td>-0.238923</td>\n",
       "      <td>-0.723813</td>\n",
       "      <td>1.501038</td>\n",
       "      <td>-0.631469</td>\n",
       "      <td>4.417948</td>\n",
       "      <td>0.840600</td>\n",
       "      <td>-0.840261</td>\n",
       "      <td>...</td>\n",
       "      <td>-0.06575</td>\n",
       "      <td>-1.156897</td>\n",
       "      <td>2.288731</td>\n",
       "      <td>-0.394074</td>\n",
       "      <td>1.016078</td>\n",
       "      <td>-1.016078</td>\n",
       "      <td>-0.657946</td>\n",
       "      <td>-0.457631</td>\n",
       "      <td>1.304037</td>\n",
       "      <td>-0.427271</td>\n",
       "    </tr>\n",
       "    <tr>\n",
       "      <th>...</th>\n",
       "      <td>...</td>\n",
       "      <td>...</td>\n",
       "      <td>...</td>\n",
       "      <td>...</td>\n",
       "      <td>...</td>\n",
       "      <td>...</td>\n",
       "      <td>...</td>\n",
       "      <td>...</td>\n",
       "      <td>...</td>\n",
       "      <td>...</td>\n",
       "      <td>...</td>\n",
       "      <td>...</td>\n",
       "      <td>...</td>\n",
       "      <td>...</td>\n",
       "      <td>...</td>\n",
       "      <td>...</td>\n",
       "      <td>...</td>\n",
       "      <td>...</td>\n",
       "      <td>...</td>\n",
       "      <td>...</td>\n",
       "      <td>...</td>\n",
       "    </tr>\n",
       "    <tr>\n",
       "      <th>5105</th>\n",
       "      <td>-0.864005</td>\n",
       "      <td>1.626231</td>\n",
       "      <td>3.042899</td>\n",
       "      <td>-0.238923</td>\n",
       "      <td>-0.723813</td>\n",
       "      <td>-0.494609</td>\n",
       "      <td>-0.098971</td>\n",
       "      <td>-0.226305</td>\n",
       "      <td>0.840600</td>\n",
       "      <td>-0.840261</td>\n",
       "      <td>...</td>\n",
       "      <td>-0.06575</td>\n",
       "      <td>0.864212</td>\n",
       "      <td>-0.436838</td>\n",
       "      <td>-0.394074</td>\n",
       "      <td>-0.983983</td>\n",
       "      <td>0.983983</td>\n",
       "      <td>-0.657946</td>\n",
       "      <td>-0.457631</td>\n",
       "      <td>1.304037</td>\n",
       "      <td>-0.427271</td>\n",
       "    </tr>\n",
       "    <tr>\n",
       "      <th>5106</th>\n",
       "      <td>0.394825</td>\n",
       "      <td>1.670454</td>\n",
       "      <td>-0.328570</td>\n",
       "      <td>-0.238923</td>\n",
       "      <td>-0.723813</td>\n",
       "      <td>0.420734</td>\n",
       "      <td>1.446571</td>\n",
       "      <td>-0.226305</td>\n",
       "      <td>0.840600</td>\n",
       "      <td>-0.840261</td>\n",
       "      <td>...</td>\n",
       "      <td>-0.06575</td>\n",
       "      <td>-1.156897</td>\n",
       "      <td>2.288731</td>\n",
       "      <td>-0.394074</td>\n",
       "      <td>-0.983983</td>\n",
       "      <td>0.983983</td>\n",
       "      <td>-0.657946</td>\n",
       "      <td>-0.457631</td>\n",
       "      <td>1.304037</td>\n",
       "      <td>-0.427271</td>\n",
       "    </tr>\n",
       "    <tr>\n",
       "      <th>5107</th>\n",
       "      <td>-0.793642</td>\n",
       "      <td>-0.363806</td>\n",
       "      <td>-0.328570</td>\n",
       "      <td>-0.238923</td>\n",
       "      <td>-0.723813</td>\n",
       "      <td>-0.511393</td>\n",
       "      <td>0.225723</td>\n",
       "      <td>-0.226305</td>\n",
       "      <td>0.840600</td>\n",
       "      <td>-0.840261</td>\n",
       "      <td>...</td>\n",
       "      <td>-0.06575</td>\n",
       "      <td>-1.156897</td>\n",
       "      <td>2.288731</td>\n",
       "      <td>-0.394074</td>\n",
       "      <td>1.016078</td>\n",
       "      <td>-1.016078</td>\n",
       "      <td>-0.657946</td>\n",
       "      <td>-0.457631</td>\n",
       "      <td>1.304037</td>\n",
       "      <td>-0.427271</td>\n",
       "    </tr>\n",
       "    <tr>\n",
       "      <th>5108</th>\n",
       "      <td>0.048492</td>\n",
       "      <td>0.343763</td>\n",
       "      <td>-0.328570</td>\n",
       "      <td>-0.238923</td>\n",
       "      <td>-0.723813</td>\n",
       "      <td>1.328127</td>\n",
       "      <td>-0.423665</td>\n",
       "      <td>-0.226305</td>\n",
       "      <td>-1.189394</td>\n",
       "      <td>1.189873</td>\n",
       "      <td>...</td>\n",
       "      <td>-0.06575</td>\n",
       "      <td>0.864212</td>\n",
       "      <td>-0.436838</td>\n",
       "      <td>-0.394074</td>\n",
       "      <td>1.016078</td>\n",
       "      <td>-1.016078</td>\n",
       "      <td>-0.657946</td>\n",
       "      <td>2.184737</td>\n",
       "      <td>-0.766699</td>\n",
       "      <td>-0.427271</td>\n",
       "    </tr>\n",
       "    <tr>\n",
       "      <th>5109</th>\n",
       "      <td>0.385657</td>\n",
       "      <td>0.034201</td>\n",
       "      <td>-0.328570</td>\n",
       "      <td>-0.238923</td>\n",
       "      <td>-0.723813</td>\n",
       "      <td>-0.460822</td>\n",
       "      <td>-0.345739</td>\n",
       "      <td>-0.226305</td>\n",
       "      <td>0.840600</td>\n",
       "      <td>-0.840261</td>\n",
       "      <td>...</td>\n",
       "      <td>-0.06575</td>\n",
       "      <td>-1.156897</td>\n",
       "      <td>-0.436838</td>\n",
       "      <td>-0.394074</td>\n",
       "      <td>-0.983983</td>\n",
       "      <td>0.983983</td>\n",
       "      <td>1.519583</td>\n",
       "      <td>-0.457631</td>\n",
       "      <td>-0.766699</td>\n",
       "      <td>-0.427271</td>\n",
       "    </tr>\n",
       "  </tbody>\n",
       "</table>\n",
       "<p>5110 rows × 22 columns</p>\n",
       "</div>"
      ],
      "text/plain": [
       "            id       age  hypertension  heart_disease  ever_married  \\\n",
       "0    -1.298185  1.051331     -0.328570       4.184622     -0.723813   \n",
       "1     0.716301  0.785993     -0.328570      -0.238923     -0.723813   \n",
       "2    -0.255453  1.626231     -0.328570       4.184622     -0.723813   \n",
       "3     1.118254  0.255317     -0.328570      -0.238923     -0.723813   \n",
       "4    -1.646975  1.582008      3.042899      -0.238923     -0.723813   \n",
       "...        ...       ...           ...            ...           ...   \n",
       "5105 -0.864005  1.626231      3.042899      -0.238923     -0.723813   \n",
       "5106  0.394825  1.670454     -0.328570      -0.238923     -0.723813   \n",
       "5107 -0.793642 -0.363806     -0.328570      -0.238923     -0.723813   \n",
       "5108  0.048492  0.343763     -0.328570      -0.238923     -0.723813   \n",
       "5109  0.385657  0.034201     -0.328570      -0.238923     -0.723813   \n",
       "\n",
       "      avg_glucose_level       bmi    stroke    Female      Male  ...  \\\n",
       "0              2.706111  1.004988  4.417948 -1.189394  1.189873  ...   \n",
       "1              2.121351 -0.098971  4.417948  0.840600 -0.840261  ...   \n",
       "2             -0.005028  0.472490  4.417948 -1.189394  1.189873  ...   \n",
       "3              1.437217  0.719257  4.417948  0.840600 -0.840261  ...   \n",
       "4              1.501038 -0.631469  4.417948  0.840600 -0.840261  ...   \n",
       "...                 ...       ...       ...       ...       ...  ...   \n",
       "5105          -0.494609 -0.098971 -0.226305  0.840600 -0.840261  ...   \n",
       "5106           0.420734  1.446571 -0.226305  0.840600 -0.840261  ...   \n",
       "5107          -0.511393  0.225723 -0.226305  0.840600 -0.840261  ...   \n",
       "5108           1.328127 -0.423665 -0.226305 -1.189394  1.189873  ...   \n",
       "5109          -0.460822 -0.345739 -0.226305  0.840600 -0.840261  ...   \n",
       "\n",
       "      Never_worked   Private  Self-employed  children     Rural     Urban  \\\n",
       "0         -0.06575  0.864212      -0.436838 -0.394074 -0.983983  0.983983   \n",
       "1         -0.06575 -1.156897       2.288731 -0.394074  1.016078 -1.016078   \n",
       "2         -0.06575  0.864212      -0.436838 -0.394074  1.016078 -1.016078   \n",
       "3         -0.06575  0.864212      -0.436838 -0.394074 -0.983983  0.983983   \n",
       "4         -0.06575 -1.156897       2.288731 -0.394074  1.016078 -1.016078   \n",
       "...            ...       ...            ...       ...       ...       ...   \n",
       "5105      -0.06575  0.864212      -0.436838 -0.394074 -0.983983  0.983983   \n",
       "5106      -0.06575 -1.156897       2.288731 -0.394074 -0.983983  0.983983   \n",
       "5107      -0.06575 -1.156897       2.288731 -0.394074  1.016078 -1.016078   \n",
       "5108      -0.06575  0.864212      -0.436838 -0.394074  1.016078 -1.016078   \n",
       "5109      -0.06575 -1.156897      -0.436838 -0.394074 -0.983983  0.983983   \n",
       "\n",
       "       Unknown  formerly smoked  never smoked    smokes  \n",
       "0    -0.657946         2.184737     -0.766699 -0.427271  \n",
       "1    -0.657946        -0.457631      1.304037 -0.427271  \n",
       "2    -0.657946        -0.457631      1.304037 -0.427271  \n",
       "3    -0.657946        -0.457631     -0.766699  2.339975  \n",
       "4    -0.657946        -0.457631      1.304037 -0.427271  \n",
       "...        ...              ...           ...       ...  \n",
       "5105 -0.657946        -0.457631      1.304037 -0.427271  \n",
       "5106 -0.657946        -0.457631      1.304037 -0.427271  \n",
       "5107 -0.657946        -0.457631      1.304037 -0.427271  \n",
       "5108 -0.657946         2.184737     -0.766699 -0.427271  \n",
       "5109  1.519583        -0.457631     -0.766699 -0.427271  \n",
       "\n",
       "[5110 rows x 22 columns]"
      ]
     },
     "execution_count": 22,
     "metadata": {},
     "output_type": "execute_result"
    }
   ],
   "source": [
    "data_stand"
   ]
  },
  {
   "cell_type": "code",
   "execution_count": null,
   "metadata": {},
   "outputs": [],
   "source": []
  },
  {
   "cell_type": "markdown",
   "metadata": {},
   "source": [
    "## Разбиение данных"
   ]
  },
  {
   "cell_type": "markdown",
   "metadata": {},
   "source": [
    "#### Для классификации уберем id"
   ]
  },
  {
   "cell_type": "code",
   "execution_count": 23,
   "metadata": {},
   "outputs": [
    {
     "data": {
      "text/plain": [
       "Index(['id', 'age', 'hypertension', 'heart_disease', 'ever_married',\n",
       "       'avg_glucose_level', 'bmi', 'stroke', 'Female', 'Male', 'Other',\n",
       "       'Govt_job', 'Never_worked', 'Private', 'Self-employed', 'children',\n",
       "       'Rural', 'Urban', 'Unknown', 'formerly smoked', 'never smoked',\n",
       "       'smokes'],\n",
       "      dtype='object')"
      ]
     },
     "execution_count": 23,
     "metadata": {},
     "output_type": "execute_result"
    }
   ],
   "source": [
    "data_stand.columns"
   ]
  },
  {
   "cell_type": "code",
   "execution_count": 24,
   "metadata": {},
   "outputs": [],
   "source": [
    "X = data_stand.drop(['stroke', 'id'], axis=1)\n",
    "y = data['stroke']"
   ]
  },
  {
   "cell_type": "markdown",
   "metadata": {},
   "source": [
    "#### Разобьем данные на обучающую и тестовую выборки в пропорции 3:1 (75% - обучающая выборка, 25% - тестовая):"
   ]
  },
  {
   "cell_type": "code",
   "execution_count": 25,
   "metadata": {},
   "outputs": [
    {
     "data": {
      "text/plain": [
       "(3832, 1278)"
      ]
     },
     "execution_count": 25,
     "metadata": {},
     "output_type": "execute_result"
    }
   ],
   "source": [
    "from sklearn.model_selection import train_test_split\n",
    "X_train, X_test, y_train, y_test = train_test_split(X, y, test_size = 0.25, random_state = 42)\n",
    "\n",
    "N_train, _ = X_train.shape \n",
    "N_test,  _ = X_test.shape \n",
    "\n",
    "N_train, N_test"
   ]
  },
  {
   "cell_type": "markdown",
   "metadata": {},
   "source": [
    "### kNN"
   ]
  },
  {
   "cell_type": "code",
   "execution_count": 26,
   "metadata": {},
   "outputs": [
    {
     "data": {
      "text/plain": [
       "KNeighborsClassifier(n_neighbors=7)"
      ]
     },
     "execution_count": 26,
     "metadata": {},
     "output_type": "execute_result"
    }
   ],
   "source": [
    "from sklearn.neighbors import KNeighborsClassifier\n",
    "\n",
    "knn = KNeighborsClassifier(n_neighbors = 7)\n",
    "knn.fit(X_train, y_train)"
   ]
  },
  {
   "cell_type": "code",
   "execution_count": 27,
   "metadata": {},
   "outputs": [
    {
     "data": {
      "text/plain": [
       "KNeighborsClassifier(n_neighbors=7)"
      ]
     },
     "execution_count": 27,
     "metadata": {},
     "output_type": "execute_result"
    }
   ],
   "source": [
    "knn"
   ]
  },
  {
   "cell_type": "code",
   "execution_count": 28,
   "metadata": {},
   "outputs": [],
   "source": [
    "y_train_predict = knn.predict(X_train)\n",
    "err_train  = np.mean(y_train  != y_train_predict)"
   ]
  },
  {
   "cell_type": "code",
   "execution_count": 29,
   "metadata": {},
   "outputs": [],
   "source": [
    "y_test_predict = knn.predict(X_test)\n",
    "err_test  = np.mean(y_test  != y_test_predict)"
   ]
  },
  {
   "cell_type": "code",
   "execution_count": 30,
   "metadata": {},
   "outputs": [
    {
     "name": "stdout",
     "output_type": "stream",
     "text": [
      "0.04305845511482255 0.06025039123630673\n"
     ]
    }
   ],
   "source": [
    "print(err_train, err_test)"
   ]
  },
  {
   "cell_type": "code",
   "execution_count": 31,
   "metadata": {},
   "outputs": [
    {
     "name": "stdout",
     "output_type": "stream",
     "text": [
      "[[1197    1]\n",
      " [  76    4]]\n"
     ]
    }
   ],
   "source": [
    "print(confusion_matrix(y_test, knn.predict(X_test)))"
   ]
  },
  {
   "cell_type": "markdown",
   "metadata": {},
   "source": [
    "###  Random forest"
   ]
  },
  {
   "cell_type": "code",
   "execution_count": 32,
   "metadata": {},
   "outputs": [
    {
     "name": "stdout",
     "output_type": "stream",
     "text": [
      "0.00026096033402922753 0.06338028169014084\n"
     ]
    }
   ],
   "source": [
    "from sklearn.ensemble import RandomForestClassifier\n",
    "forest = RandomForestClassifier()\n",
    "forest.fit(X_train, y_train)\n",
    "err_train = np.mean(y_train != forest.predict(X_train))\n",
    "err_test  = np.mean(y_test  != forest.predict(X_test))\n",
    "print(err_train, err_test)"
   ]
  },
  {
   "cell_type": "markdown",
   "metadata": {},
   "source": [
    "### Extremely Randomized Trees"
   ]
  },
  {
   "cell_type": "code",
   "execution_count": 33,
   "metadata": {},
   "outputs": [
    {
     "name": "stdout",
     "output_type": "stream",
     "text": [
      "0.0 0.06729264475743349\n"
     ]
    }
   ],
   "source": [
    "from sklearn.ensemble import ExtraTreesClassifier\n",
    "ert = ExtraTreesClassifier()\n",
    "ert.fit(X_train, y_train)\n",
    "err_train = np.mean(y_train != ert.predict(X_train))\n",
    "err_test  = np.mean(y_test  != ert.predict(X_test))\n",
    "print(err_train, err_test)"
   ]
  },
  {
   "cell_type": "markdown",
   "metadata": {},
   "source": [
    "### Decision Tree"
   ]
  },
  {
   "cell_type": "code",
   "execution_count": 34,
   "metadata": {},
   "outputs": [
    {
     "name": "stdout",
     "output_type": "stream",
     "text": [
      "0.0 0.09859154929577464\n"
     ]
    }
   ],
   "source": [
    "from sklearn.tree import DecisionTreeClassifier\n",
    "dtc = DecisionTreeClassifier()\n",
    "dtc.fit(X_train, y_train)\n",
    "err_train = np.mean(y_train != dtc.predict(X_train))\n",
    "err_test  = np.mean(y_test  != dtc.predict(X_test))\n",
    "print(err_train, err_test)"
   ]
  },
  {
   "cell_type": "markdown",
   "metadata": {},
   "source": [
    "### SVM"
   ]
  },
  {
   "cell_type": "code",
   "execution_count": 35,
   "metadata": {},
   "outputs": [
    {
     "name": "stdout",
     "output_type": "stream",
     "text": [
      "0.04410229645093946 0.06259780907668232\n"
     ]
    }
   ],
   "source": [
    "from sklearn import svm\n",
    "clf = svm.SVC()\n",
    "clf.fit(X_train, y_train)\n",
    "err_train = np.mean(y_train != clf.predict(X_train))\n",
    "err_test  = np.mean(y_test  != clf.predict(X_test))\n",
    "print(err_train, err_test)"
   ]
  },
  {
   "cell_type": "code",
   "execution_count": null,
   "metadata": {},
   "outputs": [],
   "source": []
  },
  {
   "cell_type": "markdown",
   "metadata": {},
   "source": [
    "## Классификация с помощью нейронной сети"
   ]
  },
  {
   "cell_type": "code",
   "execution_count": 36,
   "metadata": {},
   "outputs": [],
   "source": [
    "from sklearn.neural_network import MLPClassifier"
   ]
  },
  {
   "cell_type": "code",
   "execution_count": 37,
   "metadata": {},
   "outputs": [
    {
     "name": "stdout",
     "output_type": "stream",
     "text": [
      "Wall time: 49.5 s\n"
     ]
    }
   ],
   "source": [
    "%%time\n",
    "\n",
    "err_train = []\n",
    "err_test = []\n",
    "score_train = []\n",
    "score_test = []\n",
    "\n",
    "sequence = np.logspace(-3, 2, 21)\n",
    "\n",
    "for alpha in sequence:\n",
    "    mlp_model = MLPClassifier(alpha = alpha, hidden_layer_sizes = (100,), \n",
    "                              solver = 'lbfgs', activation = 'logistic',\n",
    "                              max_iter=10000, random_state = 42)\n",
    "    mlp_model.fit(X_train, y_train)\n",
    "\n",
    "    y_train_predict = mlp_model.predict(X_train)\n",
    "    y_test_predict = mlp_model.predict(X_test)\n",
    "    \n",
    "    err_train.append(np.mean(y_train != y_train_predict))\n",
    "    err_test.append(np.mean(y_test != y_test_predict))\n",
    "    \n",
    "    score_train.append(mlp_model.score(X_train, y_train))\n",
    "    score_test.append(mlp_model.score(X_test, y_test))"
   ]
  },
  {
   "cell_type": "code",
   "execution_count": 38,
   "metadata": {},
   "outputs": [
    {
     "data": {
      "text/plain": [
       "<matplotlib.legend.Legend at 0x152197295e0>"
      ]
     },
     "execution_count": 38,
     "metadata": {},
     "output_type": "execute_result"
    },
    {
     "data": {
      "image/png": "[encoded data removed]",
      "text/plain": [
       "<Figure size 432x288 with 1 Axes>"
      ]
     },
     "metadata": {
      "needs_background": "light"
     },
     "output_type": "display_data"
    }
   ],
   "source": [
    "plt.semilogx(sequence, err_train, 'b-o', label = 'train')\n",
    "plt.semilogx(sequence, err_test, 'r-o', label = 'test')\n",
    "plt.xlim([np.min(sequence), np.max(sequence)])\n",
    "plt.title('Error vs. alpha')\n",
    "plt.xlabel('alpha')\n",
    "plt.ylabel('error')\n",
    "plt.legend()"
   ]
  },
  {
   "cell_type": "markdown",
   "metadata": {},
   "source": [
    "#### Рассмотрим как у нас менялась метрика в зависимости от гиперпараметра:"
   ]
  },
  {
   "cell_type": "code",
   "execution_count": 39,
   "metadata": {},
   "outputs": [
    {
     "data": {
      "text/plain": [
       "<matplotlib.legend.Legend at 0x1521994edf0>"
      ]
     },
     "execution_count": 39,
     "metadata": {},
     "output_type": "execute_result"
    },
    {
     "data": {
      "image/png": "[encoded data removed]",
      "text/plain": [
       "<Figure size 432x288 with 1 Axes>"
      ]
     },
     "metadata": {
      "needs_background": "light"
     },
     "output_type": "display_data"
    }
   ],
   "source": [
    "plt.semilogx(sequence, score_train, 'r-o', label = 'train')\n",
    "plt.semilogx(sequence, score_test, 'b-o', label = 'test')\n",
    "plt.xlim([np.min(sequence), np.max(sequence)])\n",
    "plt.title('Accuracy vs. alpha')\n",
    "plt.xlabel('alpha')\n",
    "plt.ylabel('Accuracy')\n",
    "plt.legend()"
   ]
  },
  {
   "cell_type": "markdown",
   "metadata": {},
   "source": [
    "Минимальное значение ошибки:"
   ]
  },
  {
   "cell_type": "code",
   "execution_count": 40,
   "metadata": {},
   "outputs": [
    {
     "name": "stdout",
     "output_type": "stream",
     "text": [
      "0.0 0.06259780907668232\n"
     ]
    }
   ],
   "source": [
    "min_train_err = np.min(err_train)\n",
    "min_test_err = np.min(err_test)\n",
    "print(min_train_err, min_test_err)"
   ]
  },
  {
   "cell_type": "markdown",
   "metadata": {},
   "source": [
    "Оптимальное значение alpha:"
   ]
  },
  {
   "cell_type": "code",
   "execution_count": 41,
   "metadata": {},
   "outputs": [
    {
     "name": "stdout",
     "output_type": "stream",
     "text": [
      "Оптимальное значение: 1.7782794100389228\n"
     ]
    }
   ],
   "source": [
    "opt_alpha = sequence[err_test == min_test_err]\n",
    "opt_alpha = opt_alpha[0]\n",
    "print(\"Оптимальное значение:\", opt_alpha)"
   ]
  },
  {
   "cell_type": "markdown",
   "metadata": {},
   "source": [
    "Повторим обучение"
   ]
  },
  {
   "cell_type": "code",
   "execution_count": 42,
   "metadata": {},
   "outputs": [
    {
     "name": "stdout",
     "output_type": "stream",
     "text": [
      "Train: 0.04410229645093946\n",
      "Test: 0.06259780907668232\n"
     ]
    }
   ],
   "source": [
    "mlp_model = MLPClassifier(alpha = opt_alpha, hidden_layer_sizes = (100,),\n",
    "                          solver = 'lbfgs', activation = 'logistic', random_state = 42)\n",
    "mlp_model.fit(X_train, y_train)\n",
    "\n",
    "\n",
    "y_train_predict = mlp_model.predict(X_train)\n",
    "y_test_predict = mlp_model.predict(X_test)\n",
    "\n",
    "print(\"Train:\", np.mean(y_train != y_train_predict))\n",
    "print(\"Test:\", np.mean(y_test != y_test_predict))"
   ]
  },
  {
   "cell_type": "markdown",
   "metadata": {},
   "source": [
    "### Найдем оптимальное число нейронов"
   ]
  },
  {
   "cell_type": "code",
   "execution_count": 43,
   "metadata": {},
   "outputs": [],
   "source": [
    "sequence = np.linspace(1, 100, 60, endpoint=True, dtype=int)"
   ]
  },
  {
   "cell_type": "code",
   "execution_count": 44,
   "metadata": {},
   "outputs": [
    {
     "data": {
      "text/plain": [
       "1.7782794100389228"
      ]
     },
     "execution_count": 44,
     "metadata": {},
     "output_type": "execute_result"
    }
   ],
   "source": [
    "opt_alpha"
   ]
  },
  {
   "cell_type": "code",
   "execution_count": 45,
   "metadata": {},
   "outputs": [
    {
     "name": "stdout",
     "output_type": "stream",
     "text": [
      "Wall time: 44.5 s\n"
     ]
    }
   ],
   "source": [
    "%%time\n",
    "\n",
    "err_train = []\n",
    "err_test = []\n",
    "score_train = []\n",
    "score_test = []\n",
    "\n",
    "sequence = np.linspace(1, 100, 60, endpoint=True, dtype=int)\n",
    "\n",
    "for number in sequence:\n",
    "    mlp_model = MLPClassifier(alpha = opt_alpha, hidden_layer_sizes = (number,), \n",
    "                              solver = 'lbfgs', activation = 'logistic',\n",
    "                              max_iter=1000, random_state = 42)\n",
    "    mlp_model.fit(X_train, y_train)\n",
    "\n",
    "    y_train_predict = mlp_model.predict(X_train)\n",
    "    y_test_predict = mlp_model.predict(X_test)\n",
    "    \n",
    "    err_train.append(np.mean(y_train != y_train_predict))\n",
    "    err_test.append(np.mean(y_test != y_test_predict))\n",
    "    \n",
    "    score_train.append(mlp_model.score(X_train, y_train))\n",
    "    score_test.append(mlp_model.score(X_test, y_test))"
   ]
  },
  {
   "cell_type": "code",
   "execution_count": 46,
   "metadata": {},
   "outputs": [
    {
     "data": {
      "text/plain": [
       "<matplotlib.legend.Legend at 0x15219ab7ac0>"
      ]
     },
     "execution_count": 46,
     "metadata": {},
     "output_type": "execute_result"
    },
    {
     "data": {
      "image/png": "[encoded data removed]",
      "text/plain": [
       "<Figure size 432x288 with 1 Axes>"
      ]
     },
     "metadata": {
      "needs_background": "light"
     },
     "output_type": "display_data"
    }
   ],
   "source": [
    "plt.plot(sequence, err_train, 'b-o', label = 'train')\n",
    "plt.plot(sequence, err_test, 'r-o', label = 'test')\n",
    "plt.xlim([np.min(sequence), np.max(sequence)])\n",
    "plt.title('Error vs. neurons')\n",
    "plt.xlabel('neurons')\n",
    "plt.ylabel('error')\n",
    "plt.legend()"
   ]
  },
  {
   "cell_type": "code",
   "execution_count": 47,
   "metadata": {},
   "outputs": [
    {
     "data": {
      "text/plain": [
       "<matplotlib.legend.Legend at 0x15219b08d60>"
      ]
     },
     "execution_count": 47,
     "metadata": {},
     "output_type": "execute_result"
    },
    {
     "data": {
      "image/png": "[encoded data removed]",
      "text/plain": [
       "<Figure size 432x288 with 1 Axes>"
      ]
     },
     "metadata": {
      "needs_background": "light"
     },
     "output_type": "display_data"
    }
   ],
   "source": [
    "plt.plot(sequence, score_train, 'r-o', label = 'train')\n",
    "plt.plot(sequence, score_test, 'b-o', label = 'test')\n",
    "plt.xlim([np.min(sequence), np.max(sequence)])\n",
    "plt.title('Accuracy vs. neuron')\n",
    "plt.xlabel('alpha')\n",
    "plt.ylabel('Accuracy')\n",
    "plt.legend()"
   ]
  },
  {
   "cell_type": "code",
   "execution_count": 48,
   "metadata": {},
   "outputs": [
    {
     "name": "stdout",
     "output_type": "stream",
     "text": [
      "0.04384133611691023 0.061815336463223784\n"
     ]
    }
   ],
   "source": [
    "min_train_err = np.min(err_train)\n",
    "min_test_err = np.min(err_test)\n",
    "print(min_train_err, min_test_err)"
   ]
  },
  {
   "cell_type": "code",
   "execution_count": 49,
   "metadata": {},
   "outputs": [
    {
     "name": "stdout",
     "output_type": "stream",
     "text": [
      "Оптимальное значение: 11\n"
     ]
    }
   ],
   "source": [
    "opt_first_layer = sequence[err_test == min_test_err]\n",
    "opt_first_layer = opt_first_layer[0]\n",
    "print(\"Оптимальное значение:\", opt_first_layer)"
   ]
  },
  {
   "cell_type": "markdown",
   "metadata": {},
   "source": [
    "#### Повторим обучение"
   ]
  },
  {
   "cell_type": "code",
   "execution_count": 50,
   "metadata": {},
   "outputs": [
    {
     "data": {
      "text/plain": [
       "11"
      ]
     },
     "execution_count": 50,
     "metadata": {},
     "output_type": "execute_result"
    }
   ],
   "source": [
    "opt_first_layer"
   ]
  },
  {
   "cell_type": "code",
   "execution_count": 51,
   "metadata": {},
   "outputs": [
    {
     "name": "stdout",
     "output_type": "stream",
     "text": [
      "Train: 0.04410229645093946\n",
      "Test: 0.061815336463223784\n"
     ]
    }
   ],
   "source": [
    "mlp_model = MLPClassifier(alpha = opt_alpha, hidden_layer_sizes = (opt_first_layer,), \n",
    "                              solver = 'lbfgs', activation = 'logistic',\n",
    "                              max_iter=1000, random_state = 42)\n",
    "mlp_model.fit(X_train, y_train)\n",
    "\n",
    "y_train_predict = mlp_model.predict(X_train)\n",
    "y_test_predict = mlp_model.predict(X_test)\n",
    "    \n",
    "print(\"Train:\", np.mean(y_train != y_train_predict))\n",
    "print(\"Test:\", np.mean(y_test != y_test_predict))"
   ]
  },
  {
   "cell_type": "markdown",
   "metadata": {},
   "source": [
    "### Найдем оптимальное число нейронов на втором слое"
   ]
  },
  {
   "cell_type": "code",
   "execution_count": 52,
   "metadata": {},
   "outputs": [
    {
     "name": "stdout",
     "output_type": "stream",
     "text": [
      "Wall time: 1min 15s\n"
     ]
    }
   ],
   "source": [
    "%%time\n",
    "\n",
    "err_train = []\n",
    "err_test = []\n",
    "score_train = []\n",
    "score_test = []\n",
    "\n",
    "sequence = np.linspace(1, 100, 60, endpoint=True, dtype=int)\n",
    "\n",
    "for number in sequence:\n",
    "    mlp_model = MLPClassifier(alpha = opt_alpha, hidden_layer_sizes = (opt_first_layer,number), \n",
    "                              solver = 'lbfgs', activation = 'logistic',\n",
    "                              max_iter=1000, random_state = 42)\n",
    "    mlp_model.fit(X_train, y_train)\n",
    "\n",
    "    y_train_predict = mlp_model.predict(X_train)\n",
    "    y_test_predict = mlp_model.predict(X_test)\n",
    "    \n",
    "    err_train.append(np.mean(y_train != y_train_predict))\n",
    "    err_test.append(np.mean(y_test != y_test_predict))\n",
    "    \n",
    "    score_train.append(mlp_model.score(X_train, y_train))\n",
    "    score_test.append(mlp_model.score(X_test, y_test))"
   ]
  },
  {
   "cell_type": "code",
   "execution_count": 53,
   "metadata": {},
   "outputs": [
    {
     "data": {
      "text/plain": [
       "<matplotlib.legend.Legend at 0x15219a42be0>"
      ]
     },
     "execution_count": 53,
     "metadata": {},
     "output_type": "execute_result"
    },
    {
     "data": {
      "image/png": "[encoded data removed]",
      "text/plain": [
       "<Figure size 432x288 with 1 Axes>"
      ]
     },
     "metadata": {
      "needs_background": "light"
     },
     "output_type": "display_data"
    }
   ],
   "source": [
    "plt.plot(sequence, err_train, 'b-o', label = 'train')\n",
    "plt.plot(sequence, err_test, 'r-o', label = 'test')\n",
    "plt.xlim([np.min(sequence), np.max(sequence)])\n",
    "plt.title('Error vs. neurons')\n",
    "plt.xlabel('neurons')\n",
    "plt.ylabel('error')\n",
    "plt.legend()"
   ]
  },
  {
   "cell_type": "code",
   "execution_count": 54,
   "metadata": {},
   "outputs": [
    {
     "data": {
      "text/plain": [
       "<matplotlib.legend.Legend at 0x152197edac0>"
      ]
     },
     "execution_count": 54,
     "metadata": {},
     "output_type": "execute_result"
    },
    {
     "data": {
      "image/png": "[encoded data removed]",
      "text/plain": [
       "<Figure size 432x288 with 1 Axes>"
      ]
     },
     "metadata": {
      "needs_background": "light"
     },
     "output_type": "display_data"
    }
   ],
   "source": [
    "plt.plot(sequence, score_train, 'r-o', label = 'train')\n",
    "plt.plot(sequence, score_test, 'b-o', label = 'test')\n",
    "plt.xlim([np.min(sequence), np.max(sequence)])\n",
    "plt.title('Accuracy vs. neuron')\n",
    "plt.xlabel('alpha')\n",
    "plt.ylabel('Accuracy')\n",
    "plt.legend()"
   ]
  },
  {
   "cell_type": "code",
   "execution_count": 55,
   "metadata": {},
   "outputs": [
    {
     "name": "stdout",
     "output_type": "stream",
     "text": [
      "0.04305845511482255 0.06103286384976526\n"
     ]
    }
   ],
   "source": [
    "min_train_err = np.min(err_train)\n",
    "min_test_err = np.min(err_test)\n",
    "print(min_train_err, min_test_err)"
   ]
  },
  {
   "cell_type": "code",
   "execution_count": 56,
   "metadata": {},
   "outputs": [
    {
     "name": "stdout",
     "output_type": "stream",
     "text": [
      "Оптимальное значение: 11\n"
     ]
    }
   ],
   "source": [
    "opt_second_layer = sequence[err_test == min_test_err]\n",
    "opt_second_layer = opt_second_layer[0]\n",
    "print(\"Оптимальное значение:\", opt_second_layer)"
   ]
  },
  {
   "cell_type": "markdown",
   "metadata": {},
   "source": [
    "##### Повторим обучение"
   ]
  },
  {
   "cell_type": "code",
   "execution_count": 57,
   "metadata": {},
   "outputs": [
    {
     "name": "stdout",
     "output_type": "stream",
     "text": [
      "Train: 0.044363256784968684\n",
      "Test: 0.06103286384976526\n"
     ]
    }
   ],
   "source": [
    "mlp_model = MLPClassifier(alpha = opt_alpha, hidden_layer_sizes = (opt_first_layer, opt_second_layer), \n",
    "                              solver = 'lbfgs', activation = 'logistic',\n",
    "                              max_iter=1000, random_state = 42)\n",
    "mlp_model.fit(X_train, y_train)\n",
    "\n",
    "y_train_predict = mlp_model.predict(X_train)\n",
    "y_test_predict = mlp_model.predict(X_test)\n",
    "    \n",
    "print(\"Train:\", np.mean(y_train != y_train_predict))\n",
    "print(\"Test:\", np.mean(y_test != y_test_predict))"
   ]
  },
  {
   "cell_type": "markdown",
   "metadata": {},
   "source": [
    "### Выводы"
   ]
  },
  {
   "cell_type": "markdown",
   "metadata": {},
   "source": [
    "Датасет несбалансированный. В датасете большинство людей не с инсультом (5% людей с инсультом).\n",
    "<br> Обучение проводилось на 3832 пациентах, а тестировалось на 1278.\n",
    "<br> При 7 соседях для kNN ошибка для тестовой выборки получается наименьшей.\n",
    "<br> Ошибки:\n",
    "<br> kNN: train = 0.04305845511482255, test = 0.06025039123630673\n",
    "<br> random forest: train = 0.00026096033402922753, test = 0.06259780907668232\n",
    "<br> Extremely Randomized Trees: train = 0.0, test = 0.06572769953051644\n",
    "<br> Decision Tree: train = 0.0, test = 0.10172143974960876\n",
    "<br> SVM: train = 0.04410229645093946, test = 0.06259780907668232\n",
    "    \n",
    "#### Нейронные сети:\n",
    "\n",
    "Ошибка на тренировочной выборке: \n",
    "<br> Ошибка на тестовой выборке: \n",
    "<br> Найдены оптимальные значения параметров: alpha = 1.7782794100389228, число нейронов на первом слое = 11, число нейронов на втором слое = 11."
   ]
  },
  {
   "cell_type": "code",
   "execution_count": null,
   "metadata": {},
   "outputs": [],
   "source": []
  },
  {
   "cell_type": "code",
   "execution_count": 58,
   "metadata": {},
   "outputs": [],
   "source": [
    "from imblearn.over_sampling import SMOTE"
   ]
  },
  {
   "cell_type": "code",
   "execution_count": 59,
   "metadata": {},
   "outputs": [
    {
     "data": {
      "text/plain": [
       "<AxesSubplot:xlabel='stroke', ylabel='count'>"
      ]
     },
     "execution_count": 59,
     "metadata": {},
     "output_type": "execute_result"
    },
    {
     "data": {
      "image/png": "[encoded data removed]",
      "text/plain": [
       "<Figure size 432x288 with 1 Axes>"
      ]
     },
     "metadata": {
      "needs_background": "light"
     },
     "output_type": "display_data"
    }
   ],
   "source": [
    "from imblearn.over_sampling import SMOTE\n",
    "from imblearn.under_sampling import RandomUnderSampler \n",
    "sns.countplot(x = 'stroke', data = data)\n"
   ]
  },
  {
   "cell_type": "code",
   "execution_count": 60,
   "metadata": {},
   "outputs": [
    {
     "name": "stdout",
     "output_type": "stream",
     "text": [
      "(3832, 20)\n",
      "(4392, 20) (4392, 1)\n"
     ]
    }
   ],
   "source": [
    "sm = SMOTE(sampling_strategy=0.2)\n",
    "\n",
    "X_new, y_new = sm.fit_resample(X_train, y_train.values.ravel())\n",
    "X_new, y_new = RandomUnderSampler(sampling_strategy=0.2).fit_resample(X_new, y_new)\n",
    "X_new = pd.DataFrame(X_new)\n",
    "y_new = pd.DataFrame(y_new)\n",
    "print(X_train.shape)\n",
    "print(X_new.shape,y_new.shape)"
   ]
  },
  {
   "cell_type": "markdown",
   "metadata": {},
   "source": [
    "### kNN"
   ]
  },
  {
   "cell_type": "code",
   "execution_count": 61,
   "metadata": {},
   "outputs": [
    {
     "name": "stdout",
     "output_type": "stream",
     "text": [
      "0.07832422586520947 0.09859154929577464\n",
      "[[1134   64]\n",
      " [  62   18]]\n"
     ]
    }
   ],
   "source": [
    "knn = KNeighborsClassifier(n_neighbors = 7)\n",
    "knn.fit(X_new, y_new.values.ravel())\n",
    "err_train  = np.mean(y_new.values.ravel()  != knn.predict(X_new))\n",
    "err_test  = np.mean(y_test  != knn.predict(X_test))\n",
    "print(err_train, err_test)\n",
    "print(confusion_matrix(y_test, knn.predict(X_test)))"
   ]
  },
  {
   "cell_type": "markdown",
   "metadata": {},
   "source": [
    "###  Random forest"
   ]
  },
  {
   "cell_type": "code",
   "execution_count": 62,
   "metadata": {},
   "outputs": [
    {
     "name": "stdout",
     "output_type": "stream",
     "text": [
      "0.0 0.06651017214397496\n"
     ]
    }
   ],
   "source": [
    "from sklearn.ensemble import RandomForestClassifier\n",
    "forest = RandomForestClassifier()\n",
    "forest.fit(X_new, y_new.values.ravel())\n",
    "err_train = np.mean(y_new.values.ravel() != forest.predict(X_new))\n",
    "err_test  = np.mean(y_test  != forest.predict(X_test))\n",
    "print(err_train, err_test)"
   ]
  },
  {
   "cell_type": "markdown",
   "metadata": {},
   "source": [
    "### Extremely Randomized Trees"
   ]
  },
  {
   "cell_type": "code",
   "execution_count": 63,
   "metadata": {},
   "outputs": [
    {
     "name": "stdout",
     "output_type": "stream",
     "text": [
      "0.0 0.06964006259780908\n"
     ]
    }
   ],
   "source": [
    "from sklearn.ensemble import ExtraTreesClassifier\n",
    "ert = ExtraTreesClassifier()\n",
    "ert.fit(X_new, y_new.values.ravel())\n",
    "err_train = np.mean(y_new.values.ravel() != ert.predict(X_new))\n",
    "err_test  = np.mean(y_test  != ert.predict(X_test))\n",
    "print(err_train, err_test)"
   ]
  },
  {
   "cell_type": "markdown",
   "metadata": {},
   "source": [
    "### Decision Tree"
   ]
  },
  {
   "cell_type": "code",
   "execution_count": 64,
   "metadata": {},
   "outputs": [
    {
     "name": "stdout",
     "output_type": "stream",
     "text": [
      "0.0 0.12284820031298904\n"
     ]
    }
   ],
   "source": [
    "from sklearn.tree import DecisionTreeClassifier\n",
    "dtc = DecisionTreeClassifier()\n",
    "dtc.fit(X_new, y_new.values.ravel())\n",
    "err_train = np.mean(y_new.values.ravel() != dtc.predict(X_new))\n",
    "err_test  = np.mean(y_test  != dtc.predict(X_test))\n",
    "print(err_train, err_test)"
   ]
  },
  {
   "cell_type": "markdown",
   "metadata": {},
   "source": [
    "### SVM"
   ]
  },
  {
   "cell_type": "code",
   "execution_count": 65,
   "metadata": {},
   "outputs": [
    {
     "name": "stdout",
     "output_type": "stream",
     "text": [
      "0.08879781420765027 0.08059467918622848\n"
     ]
    }
   ],
   "source": [
    "from sklearn import svm\n",
    "clf = svm.SVC()\n",
    "clf.fit(X_new, y_new.values.ravel())\n",
    "err_train = np.mean(y_new.values.ravel() != clf.predict(X_new))\n",
    "err_test  = np.mean(y_test  != clf.predict(X_test))\n",
    "print(err_train, err_test)"
   ]
  },
  {
   "cell_type": "markdown",
   "metadata": {},
   "source": [
    "### NN"
   ]
  },
  {
   "cell_type": "code",
   "execution_count": 66,
   "metadata": {},
   "outputs": [
    {
     "name": "stdout",
     "output_type": "stream",
     "text": [
      "Train: 0.072632058287796\n",
      "Test: 0.09546165884194054\n"
     ]
    }
   ],
   "source": [
    "mlp_model = MLPClassifier(alpha = opt_alpha, hidden_layer_sizes = (opt_first_layer, opt_second_layer), \n",
    "                              solver = 'lbfgs', activation = 'logistic',\n",
    "                              max_iter=1000, random_state = 42)\n",
    "mlp_model.fit(X_new, y_new.values.ravel())\n",
    "\n",
    "y_train_predict = mlp_model.predict(X_new)\n",
    "y_test_predict = mlp_model.predict(X_test)\n",
    "    \n",
    "print(\"Train:\", np.mean(y_new.values.ravel() != y_train_predict))\n",
    "print(\"Test:\", np.mean(y_test != y_test_predict))"
   ]
  },
  {
   "cell_type": "code",
   "execution_count": 67,
   "metadata": {},
   "outputs": [],
   "source": [
    "tmp1 = X_new\n",
    "tmp2 = X_test"
   ]
  },
  {
   "cell_type": "code",
   "execution_count": 68,
   "metadata": {},
   "outputs": [],
   "source": [
    "from sklearn.decomposition import PCA\n",
    "pca = PCA(n_components = 15)\n",
    "X_new = tmp1\n",
    "X_test = tmp2"
   ]
  },
  {
   "cell_type": "code",
   "execution_count": 69,
   "metadata": {},
   "outputs": [],
   "source": [
    "X_new = pca.fit_transform(X_new)\n",
    "X_test = pca.fit_transform(X_test)"
   ]
  },
  {
   "cell_type": "code",
   "execution_count": 70,
   "metadata": {},
   "outputs": [
    {
     "name": "stdout",
     "output_type": "stream",
     "text": [
      "0.07832422586520947 0.1619718309859155\n"
     ]
    }
   ],
   "source": [
    "knn = KNeighborsClassifier(n_neighbors = 7)\n",
    "knn.fit(X_new, y_new.values.ravel())\n",
    "err_train  = np.mean(y_new.values.ravel()  != knn.predict(X_new))\n",
    "err_test  = np.mean(y_test  != knn.predict(X_test))\n",
    "print(err_train, err_test)"
   ]
  },
  {
   "cell_type": "code",
   "execution_count": null,
   "metadata": {},
   "outputs": [],
   "source": []
  }
 ],
 "metadata": {
  "kernelspec": {
   "display_name": "Python 3",
   "language": "python",
   "name": "python3"
  },
  "language_info": {
   "codemirror_mode": {
    "name": "ipython",
    "version": 3
   },
   "file_extension": ".py",
   "mimetype": "text/x-python",
   "name": "python",
   "nbconvert_exporter": "python",
   "pygments_lexer": "ipython3",
   "version": "3.8.5"
  }
 },
 "nbformat": 4,
 "nbformat_minor": 4
}
